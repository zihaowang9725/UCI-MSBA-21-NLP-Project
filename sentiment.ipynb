{
 "cells": [
  {
   "cell_type": "code",
   "execution_count": null,
   "metadata": {},
   "outputs": [],
   "source": []
  },
  {
   "cell_type": "code",
   "execution_count": 1,
   "metadata": {},
   "outputs": [],
   "source": [
    "import pandas as pd\n",
    "import numpy as np\n",
    "import seaborn as sns\n",
    "from sklearn.feature_extraction.text import TfidfVectorizer\n",
    "from sklearn.metrics.pairwise import linear_kernel\n",
    "\n",
    "from nltk.stem import WordNetLemmatizer\n",
    "from nltk.tokenize import word_tokenize \n",
    "# load nltk's SnowballStemmer as variabled 'stemmer'\n",
    "from nltk.stem.snowball import SnowballStemmer\n",
    "import re \n",
    "\n",
    "from sklearn.feature_extraction.text import TfidfVectorizer\n",
    "from sklearn.metrics.pairwise import linear_kernel\n",
    "import json\n",
    "wordnet_lemmatizer = WordNetLemmatizer()\n",
    "from sklearn.decomposition import PCA\n",
    "from sklearn.cluster import KMeans\n",
    "from sklearn.manifold import TSNE\n",
    "import matplotlib.pyplot as plt\n",
    "from sklearn import metrics\n",
    "from scipy.spatial.distance import cdist"
   ]
  },
  {
   "cell_type": "code",
   "execution_count": 2,
   "metadata": {},
   "outputs": [
    {
     "name": "stderr",
     "output_type": "stream",
     "text": [
      "[nltk_data] Downloading package punkt to\n",
      "[nltk_data]     C:\\Users\\zxy\\AppData\\Roaming\\nltk_data...\n",
      "[nltk_data]   Package punkt is already up-to-date!\n"
     ]
    }
   ],
   "source": [
    "import nltk\n",
    "from nltk.corpus import stopwords\n",
    "\n",
    "nltk.download('punkt')\n",
    "stop_words = set(stopwords.words('english')) "
   ]
  },
  {
   "cell_type": "code",
   "execution_count": 3,
   "metadata": {},
   "outputs": [],
   "source": [
    "stop_words=list(set(stop_words))"
   ]
  },
  {
   "cell_type": "code",
   "execution_count": 4,
   "metadata": {},
   "outputs": [
    {
     "data": {
      "text/plain": [
       "16787"
      ]
     },
     "execution_count": 4,
     "metadata": {},
     "output_type": "execute_result"
    }
   ],
   "source": [
    "arti=pd.read_csv('nyt-articles-2020.csv')\n",
    "len(arti)"
   ]
  },
  {
   "cell_type": "code",
   "execution_count": 5,
   "metadata": {},
   "outputs": [],
   "source": [
    "com=pd.read_csv('nyt-comments-2020.csv',low_memory=False)"
   ]
  },
  {
   "cell_type": "code",
   "execution_count": 6,
   "metadata": {},
   "outputs": [
    {
     "data": {
      "text/plain": [
       "Index(['commentID', 'status', 'commentSequence', 'userID', 'userDisplayName',\n",
       "       'userLocation', 'userTitle', 'commentBody', 'createDate', 'updateDate',\n",
       "       'approveDate', 'recommendations', 'replyCount', 'editorsSelection',\n",
       "       'parentID', 'parentUserDisplayName', 'depth', 'commentType', 'trusted',\n",
       "       'recommendedFlag', 'permID', 'isAnonymous', 'articleID'],\n",
       "      dtype='object')"
      ]
     },
     "execution_count": 6,
     "metadata": {},
     "output_type": "execute_result"
    }
   ],
   "source": [
    "com.columns"
   ]
  },
  {
   "cell_type": "code",
   "execution_count": 7,
   "metadata": {},
   "outputs": [],
   "source": [
    "artiCom=arti.merge(com, how='left',left_on='uniqueID',right_on='articleID')"
   ]
  },
  {
   "cell_type": "code",
   "execution_count": 8,
   "metadata": {},
   "outputs": [],
   "source": [
    "#######clean comments for Science article#########\n",
    "with open('contraction_map.json', 'r') as fp:\n",
    "    contraction_map = json.load(fp) \n",
    "punc='\"#$%&\\'()*+,-./:;<=>@[\\\\]^_`{|}~\\n?!'\n",
    "stopwords=list(set(stop_words))\n",
    "def clean(sentence):\n",
    "    s=' '.join((contraction_map.get(word, word) for word in sentence.split(' ')))\n",
    "    s2=''.join([char for char in s if char not in punc])\n",
    "    lem=[wordnet_lemmatizer.lemmatize(word, pos=\"v\") for word in s2.split(' ')]\n",
    "    wordlist=[word for word in lem if word.lower() not in stopwords and word.isalpha()]# word list\n",
    "    a=' '.join(wordlist)\n",
    "    return a"
   ]
  },
  {
   "cell_type": "code",
   "execution_count": 9,
   "metadata": {},
   "outputs": [
    {
     "data": {
      "text/plain": [
       "Index(['newsdesk', 'section', 'subsection', 'material', 'headline', 'abstract',\n",
       "       'keywords', 'word_count', 'pub_date', 'n_comments', 'uniqueID',\n",
       "       'commentID', 'status', 'commentSequence', 'userID', 'userDisplayName',\n",
       "       'userLocation', 'userTitle', 'commentBody', 'createDate', 'updateDate',\n",
       "       'approveDate', 'recommendations', 'replyCount', 'editorsSelection',\n",
       "       'parentID', 'parentUserDisplayName', 'depth', 'commentType', 'trusted',\n",
       "       'recommendedFlag', 'permID', 'isAnonymous', 'articleID'],\n",
       "      dtype='object')"
      ]
     },
     "execution_count": 9,
     "metadata": {},
     "output_type": "execute_result"
    }
   ],
   "source": [
    "artiCom.columns"
   ]
  },
  {
   "cell_type": "code",
   "execution_count": 10,
   "metadata": {},
   "outputs": [],
   "source": [
    "###### clean comments#######\n",
    "artiCom['clean_com']=artiCom.commentBody.apply(lambda x: clean(x))"
   ]
  },
  {
   "cell_type": "code",
   "execution_count": 11,
   "metadata": {},
   "outputs": [],
   "source": [
    "from vaderSentiment.vaderSentiment import SentimentIntensityAnalyzer"
   ]
  },
  {
   "cell_type": "code",
   "execution_count": 12,
   "metadata": {},
   "outputs": [],
   "source": [
    "vader = SentimentIntensityAnalyzer()"
   ]
  },
  {
   "cell_type": "code",
   "execution_count": 13,
   "metadata": {},
   "outputs": [],
   "source": [
    "def detect_vader_comp(text):\n",
    "    return vader.polarity_scores(text)['compound']"
   ]
  },
  {
   "cell_type": "code",
   "execution_count": 14,
   "metadata": {},
   "outputs": [],
   "source": [
    "artiCom['com_compound'] = artiCom.clean_com.apply(detect_vader_comp)"
   ]
  },
  {
   "cell_type": "code",
   "execution_count": 15,
   "metadata": {},
   "outputs": [
    {
     "data": {
      "text/html": [
       "<div>\n",
       "<style scoped>\n",
       "    .dataframe tbody tr th:only-of-type {\n",
       "        vertical-align: middle;\n",
       "    }\n",
       "\n",
       "    .dataframe tbody tr th {\n",
       "        vertical-align: top;\n",
       "    }\n",
       "\n",
       "    .dataframe thead th {\n",
       "        text-align: right;\n",
       "    }\n",
       "</style>\n",
       "<table border=\"1\" class=\"dataframe\">\n",
       "  <thead>\n",
       "    <tr style=\"text-align: right;\">\n",
       "      <th></th>\n",
       "      <th>newsdesk</th>\n",
       "      <th>section</th>\n",
       "      <th>subsection</th>\n",
       "      <th>material</th>\n",
       "      <th>headline</th>\n",
       "      <th>abstract</th>\n",
       "      <th>keywords</th>\n",
       "      <th>word_count</th>\n",
       "      <th>pub_date</th>\n",
       "      <th>n_comments</th>\n",
       "      <th>...</th>\n",
       "      <th>parentUserDisplayName</th>\n",
       "      <th>depth</th>\n",
       "      <th>commentType</th>\n",
       "      <th>trusted</th>\n",
       "      <th>recommendedFlag</th>\n",
       "      <th>permID</th>\n",
       "      <th>isAnonymous</th>\n",
       "      <th>articleID</th>\n",
       "      <th>clean_com</th>\n",
       "      <th>com_compound</th>\n",
       "    </tr>\n",
       "  </thead>\n",
       "  <tbody>\n",
       "    <tr>\n",
       "      <th>0</th>\n",
       "      <td>Editorial</td>\n",
       "      <td>Opinion</td>\n",
       "      <td>NaN</td>\n",
       "      <td>Editorial</td>\n",
       "      <td>Protect Veterans From Fraud</td>\n",
       "      <td>Congress could do much more to protect America...</td>\n",
       "      <td>['Veterans', 'For-Profit Schools', 'Financial ...</td>\n",
       "      <td>680</td>\n",
       "      <td>2020-01-01 00:18:54+00:00</td>\n",
       "      <td>186</td>\n",
       "      <td>...</td>\n",
       "      <td>NaN</td>\n",
       "      <td>1</td>\n",
       "      <td>comment</td>\n",
       "      <td>0</td>\n",
       "      <td>0</td>\n",
       "      <td>104387472</td>\n",
       "      <td>False</td>\n",
       "      <td>nyt://article/69a7090b-9f36-569e-b5ab-b0ba5bb3...</td>\n",
       "      <td>something think fraudulent vet subject use VA ...</td>\n",
       "      <td>0.4939</td>\n",
       "    </tr>\n",
       "    <tr>\n",
       "      <th>1</th>\n",
       "      <td>Editorial</td>\n",
       "      <td>Opinion</td>\n",
       "      <td>NaN</td>\n",
       "      <td>Editorial</td>\n",
       "      <td>Protect Veterans From Fraud</td>\n",
       "      <td>Congress could do much more to protect America...</td>\n",
       "      <td>['Veterans', 'For-Profit Schools', 'Financial ...</td>\n",
       "      <td>680</td>\n",
       "      <td>2020-01-01 00:18:54+00:00</td>\n",
       "      <td>186</td>\n",
       "      <td>...</td>\n",
       "      <td>magicisnotreal</td>\n",
       "      <td>2</td>\n",
       "      <td>userReply</td>\n",
       "      <td>0</td>\n",
       "      <td>0</td>\n",
       "      <td>104387873</td>\n",
       "      <td>False</td>\n",
       "      <td>nyt://article/69a7090b-9f36-569e-b5ab-b0ba5bb3...</td>\n",
       "      <td>magicisnotreal use VA loan option four time ev...</td>\n",
       "      <td>0.8479</td>\n",
       "    </tr>\n",
       "    <tr>\n",
       "      <th>2</th>\n",
       "      <td>Editorial</td>\n",
       "      <td>Opinion</td>\n",
       "      <td>NaN</td>\n",
       "      <td>Editorial</td>\n",
       "      <td>Protect Veterans From Fraud</td>\n",
       "      <td>Congress could do much more to protect America...</td>\n",
       "      <td>['Veterans', 'For-Profit Schools', 'Financial ...</td>\n",
       "      <td>680</td>\n",
       "      <td>2020-01-01 00:18:54+00:00</td>\n",
       "      <td>186</td>\n",
       "      <td>...</td>\n",
       "      <td>magicisnotreal</td>\n",
       "      <td>2</td>\n",
       "      <td>userReply</td>\n",
       "      <td>0</td>\n",
       "      <td>0</td>\n",
       "      <td>104387976</td>\n",
       "      <td>False</td>\n",
       "      <td>nyt://article/69a7090b-9f36-569e-b5ab-b0ba5bb3...</td>\n",
       "      <td>magiWhy would someone take VA loan conventiona...</td>\n",
       "      <td>0.5859</td>\n",
       "    </tr>\n",
       "    <tr>\n",
       "      <th>3</th>\n",
       "      <td>Editorial</td>\n",
       "      <td>Opinion</td>\n",
       "      <td>NaN</td>\n",
       "      <td>Editorial</td>\n",
       "      <td>Protect Veterans From Fraud</td>\n",
       "      <td>Congress could do much more to protect America...</td>\n",
       "      <td>['Veterans', 'For-Profit Schools', 'Financial ...</td>\n",
       "      <td>680</td>\n",
       "      <td>2020-01-01 00:18:54+00:00</td>\n",
       "      <td>186</td>\n",
       "      <td>...</td>\n",
       "      <td>magicisnotreal</td>\n",
       "      <td>2</td>\n",
       "      <td>userReply</td>\n",
       "      <td>0</td>\n",
       "      <td>0</td>\n",
       "      <td>104390628</td>\n",
       "      <td>False</td>\n",
       "      <td>nyt://article/69a7090b-9f36-569e-b5ab-b0ba5bb3...</td>\n",
       "      <td>JDOut Alabama PNW try steal home HELOC scam au...</td>\n",
       "      <td>0.7754</td>\n",
       "    </tr>\n",
       "    <tr>\n",
       "      <th>4</th>\n",
       "      <td>Editorial</td>\n",
       "      <td>Opinion</td>\n",
       "      <td>NaN</td>\n",
       "      <td>Editorial</td>\n",
       "      <td>Protect Veterans From Fraud</td>\n",
       "      <td>Congress could do much more to protect America...</td>\n",
       "      <td>['Veterans', 'For-Profit Schools', 'Financial ...</td>\n",
       "      <td>680</td>\n",
       "      <td>2020-01-01 00:18:54+00:00</td>\n",
       "      <td>186</td>\n",
       "      <td>...</td>\n",
       "      <td>magicisnotreal</td>\n",
       "      <td>2</td>\n",
       "      <td>userReply</td>\n",
       "      <td>0</td>\n",
       "      <td>0</td>\n",
       "      <td>104391463</td>\n",
       "      <td>False</td>\n",
       "      <td>nyt://article/69a7090b-9f36-569e-b5ab-b0ba5bb3...</td>\n",
       "      <td>magicisnotreal guess doubt credit union make s...</td>\n",
       "      <td>0.9359</td>\n",
       "    </tr>\n",
       "  </tbody>\n",
       "</table>\n",
       "<p>5 rows × 36 columns</p>\n",
       "</div>"
      ],
      "text/plain": [
       "    newsdesk  section subsection   material                     headline  \\\n",
       "0  Editorial  Opinion        NaN  Editorial  Protect Veterans From Fraud   \n",
       "1  Editorial  Opinion        NaN  Editorial  Protect Veterans From Fraud   \n",
       "2  Editorial  Opinion        NaN  Editorial  Protect Veterans From Fraud   \n",
       "3  Editorial  Opinion        NaN  Editorial  Protect Veterans From Fraud   \n",
       "4  Editorial  Opinion        NaN  Editorial  Protect Veterans From Fraud   \n",
       "\n",
       "                                            abstract  \\\n",
       "0  Congress could do much more to protect America...   \n",
       "1  Congress could do much more to protect America...   \n",
       "2  Congress could do much more to protect America...   \n",
       "3  Congress could do much more to protect America...   \n",
       "4  Congress could do much more to protect America...   \n",
       "\n",
       "                                            keywords  word_count  \\\n",
       "0  ['Veterans', 'For-Profit Schools', 'Financial ...         680   \n",
       "1  ['Veterans', 'For-Profit Schools', 'Financial ...         680   \n",
       "2  ['Veterans', 'For-Profit Schools', 'Financial ...         680   \n",
       "3  ['Veterans', 'For-Profit Schools', 'Financial ...         680   \n",
       "4  ['Veterans', 'For-Profit Schools', 'Financial ...         680   \n",
       "\n",
       "                    pub_date  n_comments  ... parentUserDisplayName  depth  \\\n",
       "0  2020-01-01 00:18:54+00:00         186  ...                   NaN      1   \n",
       "1  2020-01-01 00:18:54+00:00         186  ...        magicisnotreal      2   \n",
       "2  2020-01-01 00:18:54+00:00         186  ...        magicisnotreal      2   \n",
       "3  2020-01-01 00:18:54+00:00         186  ...        magicisnotreal      2   \n",
       "4  2020-01-01 00:18:54+00:00         186  ...        magicisnotreal      2   \n",
       "\n",
       "  commentType  trusted  recommendedFlag     permID isAnonymous  \\\n",
       "0     comment        0                0  104387472       False   \n",
       "1   userReply        0                0  104387873       False   \n",
       "2   userReply        0                0  104387976       False   \n",
       "3   userReply        0                0  104390628       False   \n",
       "4   userReply        0                0  104391463       False   \n",
       "\n",
       "                                           articleID  \\\n",
       "0  nyt://article/69a7090b-9f36-569e-b5ab-b0ba5bb3...   \n",
       "1  nyt://article/69a7090b-9f36-569e-b5ab-b0ba5bb3...   \n",
       "2  nyt://article/69a7090b-9f36-569e-b5ab-b0ba5bb3...   \n",
       "3  nyt://article/69a7090b-9f36-569e-b5ab-b0ba5bb3...   \n",
       "4  nyt://article/69a7090b-9f36-569e-b5ab-b0ba5bb3...   \n",
       "\n",
       "                                           clean_com com_compound  \n",
       "0  something think fraudulent vet subject use VA ...       0.4939  \n",
       "1  magicisnotreal use VA loan option four time ev...       0.8479  \n",
       "2  magiWhy would someone take VA loan conventiona...       0.5859  \n",
       "3  JDOut Alabama PNW try steal home HELOC scam au...       0.7754  \n",
       "4  magicisnotreal guess doubt credit union make s...       0.9359  \n",
       "\n",
       "[5 rows x 36 columns]"
      ]
     },
     "execution_count": 15,
     "metadata": {},
     "output_type": "execute_result"
    }
   ],
   "source": [
    "artiCom.head()"
   ]
  },
  {
   "cell_type": "code",
   "execution_count": 16,
   "metadata": {},
   "outputs": [],
   "source": [
    "artiCom.to_csv('artiCom_sentimentScore.csv')"
   ]
  },
  {
   "cell_type": "code",
   "execution_count": 26,
   "metadata": {},
   "outputs": [],
   "source": [
    "comScore_opinion=artiCom[artiCom['section']=='Opinion']"
   ]
  },
  {
   "cell_type": "code",
   "execution_count": 27,
   "metadata": {},
   "outputs": [],
   "source": [
    "comScore_world=artiCom[artiCom['section']=='World']"
   ]
  },
  {
   "cell_type": "code",
   "execution_count": 28,
   "metadata": {},
   "outputs": [],
   "source": [
    "comScore_US=artiCom[artiCom['section']=='U.S.']"
   ]
  },
  {
   "cell_type": "code",
   "execution_count": 29,
   "metadata": {},
   "outputs": [],
   "source": [
    "comScore_world.to_csv('comScore_world.csv')"
   ]
  },
  {
   "cell_type": "code",
   "execution_count": 30,
   "metadata": {},
   "outputs": [],
   "source": [
    "comScore_opinion.to_csv('comScore_opinion.csv')"
   ]
  },
  {
   "cell_type": "code",
   "execution_count": 31,
   "metadata": {},
   "outputs": [],
   "source": [
    "comScore_US.to_csv('comScore_US.csv')"
   ]
  },
  {
   "cell_type": "code",
   "execution_count": 18,
   "metadata": {},
   "outputs": [],
   "source": [
    "#try_=artiCom[0:100]"
   ]
  },
  {
   "cell_type": "code",
   "execution_count": 21,
   "metadata": {},
   "outputs": [
    {
     "data": {
      "text/html": [
       "<div>\n",
       "<style scoped>\n",
       "    .dataframe tbody tr th:only-of-type {\n",
       "        vertical-align: middle;\n",
       "    }\n",
       "\n",
       "    .dataframe tbody tr th {\n",
       "        vertical-align: top;\n",
       "    }\n",
       "\n",
       "    .dataframe thead th {\n",
       "        text-align: right;\n",
       "    }\n",
       "</style>\n",
       "<table border=\"1\" class=\"dataframe\">\n",
       "  <thead>\n",
       "    <tr style=\"text-align: right;\">\n",
       "      <th></th>\n",
       "      <th>com_compound</th>\n",
       "    </tr>\n",
       "    <tr>\n",
       "      <th>articleID</th>\n",
       "      <th></th>\n",
       "    </tr>\n",
       "  </thead>\n",
       "  <tbody>\n",
       "    <tr>\n",
       "      <th>nyt://article/69a7090b-9f36-569e-b5ab-b0ba5bb3ccbd</th>\n",
       "      <td>0.348242</td>\n",
       "    </tr>\n",
       "  </tbody>\n",
       "</table>\n",
       "</div>"
      ],
      "text/plain": [
       "                                                    com_compound\n",
       "articleID                                                       \n",
       "nyt://article/69a7090b-9f36-569e-b5ab-b0ba5bb3ccbd      0.348242"
      ]
     },
     "execution_count": 21,
     "metadata": {},
     "output_type": "execute_result"
    }
   ],
   "source": [
    "#try_[['articleID','com_compound']].groupby('articleID').var()"
   ]
  },
  {
   "cell_type": "code",
   "execution_count": 22,
   "metadata": {},
   "outputs": [],
   "source": [
    "sentiment_diversity=artiCom[['articleID','com_compound']].groupby('articleID').var()"
   ]
  },
  {
   "cell_type": "code",
   "execution_count": 23,
   "metadata": {},
   "outputs": [
    {
     "data": {
      "text/html": [
       "<div>\n",
       "<style scoped>\n",
       "    .dataframe tbody tr th:only-of-type {\n",
       "        vertical-align: middle;\n",
       "    }\n",
       "\n",
       "    .dataframe tbody tr th {\n",
       "        vertical-align: top;\n",
       "    }\n",
       "\n",
       "    .dataframe thead th {\n",
       "        text-align: right;\n",
       "    }\n",
       "</style>\n",
       "<table border=\"1\" class=\"dataframe\">\n",
       "  <thead>\n",
       "    <tr style=\"text-align: right;\">\n",
       "      <th></th>\n",
       "      <th>com_compound</th>\n",
       "    </tr>\n",
       "    <tr>\n",
       "      <th>articleID</th>\n",
       "      <th></th>\n",
       "    </tr>\n",
       "  </thead>\n",
       "  <tbody>\n",
       "    <tr>\n",
       "      <th>nyt://article/00036db7-8494-5141-b0ac-414118caabee</th>\n",
       "      <td>0.289364</td>\n",
       "    </tr>\n",
       "    <tr>\n",
       "      <th>nyt://article/00045477-4bf1-59d5-874f-b5b61bbcfb36</th>\n",
       "      <td>0.091655</td>\n",
       "    </tr>\n",
       "    <tr>\n",
       "      <th>nyt://article/00074f13-bb5f-57c0-80e2-df0921cc62eb</th>\n",
       "      <td>0.239837</td>\n",
       "    </tr>\n",
       "    <tr>\n",
       "      <th>nyt://article/00168469-d42e-5a6f-9c81-90e3306c6c85</th>\n",
       "      <td>0.319145</td>\n",
       "    </tr>\n",
       "    <tr>\n",
       "      <th>nyt://article/00170d27-c2ca-5d3a-8c05-f27721c3c45f</th>\n",
       "      <td>0.333694</td>\n",
       "    </tr>\n",
       "  </tbody>\n",
       "</table>\n",
       "</div>"
      ],
      "text/plain": [
       "                                                    com_compound\n",
       "articleID                                                       \n",
       "nyt://article/00036db7-8494-5141-b0ac-414118caabee      0.289364\n",
       "nyt://article/00045477-4bf1-59d5-874f-b5b61bbcfb36      0.091655\n",
       "nyt://article/00074f13-bb5f-57c0-80e2-df0921cc62eb      0.239837\n",
       "nyt://article/00168469-d42e-5a6f-9c81-90e3306c6c85      0.319145\n",
       "nyt://article/00170d27-c2ca-5d3a-8c05-f27721c3c45f      0.333694"
      ]
     },
     "execution_count": 23,
     "metadata": {},
     "output_type": "execute_result"
    }
   ],
   "source": [
    "sentiment_diversity.head()"
   ]
  },
  {
   "cell_type": "code",
   "execution_count": 24,
   "metadata": {},
   "outputs": [],
   "source": [
    "sentiment_diversity.to_csv('article_sentimentDiversity.csv')"
   ]
  }
 ],
 "metadata": {
  "kernelspec": {
   "display_name": "Python 3",
   "language": "python",
   "name": "python3"
  },
  "language_info": {
   "codemirror_mode": {
    "name": "ipython",
    "version": 3
   },
   "file_extension": ".py",
   "mimetype": "text/x-python",
   "name": "python",
   "nbconvert_exporter": "python",
   "pygments_lexer": "ipython3",
   "version": "3.7.6"
  }
 },
 "nbformat": 4,
 "nbformat_minor": 4
}
