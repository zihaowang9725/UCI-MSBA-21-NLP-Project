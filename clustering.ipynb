{
 "cells": [
  {
   "cell_type": "code",
   "execution_count": 1,
   "metadata": {},
   "outputs": [],
   "source": [
    "import pandas as pd\n",
    "import numpy as np\n",
    "import seaborn as sns\n",
    "from sklearn.feature_extraction.text import TfidfVectorizer\n",
    "from sklearn.metrics.pairwise import linear_kernel\n",
    "\n",
    "from nltk.stem import WordNetLemmatizer\n",
    "from nltk.tokenize import word_tokenize \n",
    "# load nltk's SnowballStemmer as variabled 'stemmer'\n",
    "from nltk.stem.snowball import SnowballStemmer\n",
    "import re \n",
    "\n",
    "from sklearn.feature_extraction.text import TfidfVectorizer\n",
    "from sklearn.metrics.pairwise import linear_kernel\n",
    "import json\n",
    "wordnet_lemmatizer = WordNetLemmatizer()\n",
    "from sklearn.decomposition import PCA\n",
    "from sklearn.cluster import KMeans\n",
    "from sklearn.manifold import TSNE\n",
    "import matplotlib.pyplot as plt\n",
    "from sklearn import metrics\n",
    "from scipy.spatial.distance import cdist"
   ]
  },
  {
   "cell_type": "code",
   "execution_count": 2,
   "metadata": {},
   "outputs": [
    {
     "name": "stderr",
     "output_type": "stream",
     "text": [
      "[nltk_data] Downloading package punkt to\n",
      "[nltk_data]     C:\\Users\\zxy\\AppData\\Roaming\\nltk_data...\n",
      "[nltk_data]   Package punkt is already up-to-date!\n"
     ]
    }
   ],
   "source": [
    "import nltk\n",
    "from nltk.corpus import stopwords\n",
    "\n",
    "nltk.download('punkt')\n",
    "stop_words = set(stopwords.words('english')) "
   ]
  },
  {
   "cell_type": "code",
   "execution_count": 3,
   "metadata": {},
   "outputs": [],
   "source": [
    "stop_words=list(set(stop_words))"
   ]
  },
  {
   "cell_type": "code",
   "execution_count": 4,
   "metadata": {},
   "outputs": [],
   "source": [
    "arti=pd.read_csv('nyt-articles-2020.csv')"
   ]
  },
  {
   "cell_type": "code",
   "execution_count": 5,
   "metadata": {},
   "outputs": [
    {
     "data": {
      "text/plain": [
       "16787"
      ]
     },
     "execution_count": 5,
     "metadata": {},
     "output_type": "execute_result"
    }
   ],
   "source": [
    "len(arti)"
   ]
  },
  {
   "cell_type": "code",
   "execution_count": null,
   "metadata": {},
   "outputs": [],
   "source": [
    "############# read comments ###################"
   ]
  },
  {
   "cell_type": "code",
   "execution_count": 8,
   "metadata": {},
   "outputs": [],
   "source": [
    "com=pd.read_csv('nyt-comments-2020.csv',low_memory=False)"
   ]
  },
  {
   "cell_type": "code",
   "execution_count": 9,
   "metadata": {},
   "outputs": [
    {
     "data": {
      "text/plain": [
       "Index(['commentID', 'status', 'commentSequence', 'userID', 'userDisplayName',\n",
       "       'userLocation', 'userTitle', 'commentBody', 'createDate', 'updateDate',\n",
       "       'approveDate', 'recommendations', 'replyCount', 'editorsSelection',\n",
       "       'parentID', 'parentUserDisplayName', 'depth', 'commentType', 'trusted',\n",
       "       'recommendedFlag', 'permID', 'isAnonymous', 'articleID'],\n",
       "      dtype='object')"
      ]
     },
     "execution_count": 9,
     "metadata": {},
     "output_type": "execute_result"
    }
   ],
   "source": [
    "com.columns"
   ]
  },
  {
   "cell_type": "code",
   "execution_count": null,
   "metadata": {},
   "outputs": [],
   "source": [
    "############## filter all comments for opinion articles ##################"
   ]
  },
  {
   "cell_type": "code",
   "execution_count": null,
   "metadata": {},
   "outputs": [],
   "source": [
    "### merge comments with whole articles #####"
   ]
  },
  {
   "cell_type": "code",
   "execution_count": 11,
   "metadata": {},
   "outputs": [],
   "source": [
    "artiCom=arti.merge(com, how='left',left_on='uniqueID',right_on='articleID')"
   ]
  },
  {
   "cell_type": "code",
   "execution_count": null,
   "metadata": {},
   "outputs": [],
   "source": [
    "### filter comments of Science artile #####"
   ]
  },
  {
   "cell_type": "code",
   "execution_count": 12,
   "metadata": {},
   "outputs": [],
   "source": [
    "World_Com=artiCom[artiCom['section']=='World']"
   ]
  },
  {
   "cell_type": "code",
   "execution_count": 13,
   "metadata": {},
   "outputs": [
    {
     "data": {
      "text/plain": [
       "284874"
      ]
     },
     "execution_count": 13,
     "metadata": {},
     "output_type": "execute_result"
    }
   ],
   "source": [
    "len(World_Com)"
   ]
  },
  {
   "cell_type": "code",
   "execution_count": 349,
   "metadata": {},
   "outputs": [],
   "source": [
    "#######clean comments for Science article#########"
   ]
  },
  {
   "cell_type": "code",
   "execution_count": 14,
   "metadata": {},
   "outputs": [],
   "source": [
    "with open('contraction_map.json', 'r') as fp:\n",
    "    contraction_map = json.load(fp) \n",
    "punc='\"#$%&\\'()*+,-./:;<=>@[\\\\]^_`{|}~\\n?!'\n",
    "stopwords=list(set(stop_words))\n",
    "def clean(sentence):\n",
    "    s=' '.join((contraction_map.get(word, word) for word in sentence.split(' ')))\n",
    "    s2=''.join([char for char in s if char not in punc])\n",
    "    lem=[wordnet_lemmatizer.lemmatize(word, pos=\"v\") for word in s2.split(' ')]\n",
    "    wordlist=[word for word in lem if word.lower() not in stopwords and word.isalpha()]# word list\n",
    "    a=' '.join(wordlist)\n",
    "    return a"
   ]
  },
  {
   "cell_type": "code",
   "execution_count": 15,
   "metadata": {},
   "outputs": [
    {
     "name": "stderr",
     "output_type": "stream",
     "text": [
      "C:\\ProgramData\\Anaconda3\\lib\\site-packages\\ipykernel_launcher.py:1: SettingWithCopyWarning: \n",
      "A value is trying to be set on a copy of a slice from a DataFrame.\n",
      "Try using .loc[row_indexer,col_indexer] = value instead\n",
      "\n",
      "See the caveats in the documentation: https://pandas.pydata.org/pandas-docs/stable/user_guide/indexing.html#returning-a-view-versus-a-copy\n",
      "  \"\"\"Entry point for launching an IPython kernel.\n"
     ]
    }
   ],
   "source": [
    "World_Com['clean_com']=World_Com.commentBody.apply(lambda x: clean(x))"
   ]
  },
  {
   "cell_type": "code",
   "execution_count": 16,
   "metadata": {},
   "outputs": [
    {
     "data": {
      "text/html": [
       "<div>\n",
       "<style scoped>\n",
       "    .dataframe tbody tr th:only-of-type {\n",
       "        vertical-align: middle;\n",
       "    }\n",
       "\n",
       "    .dataframe tbody tr th {\n",
       "        vertical-align: top;\n",
       "    }\n",
       "\n",
       "    .dataframe thead th {\n",
       "        text-align: right;\n",
       "    }\n",
       "</style>\n",
       "<table border=\"1\" class=\"dataframe\">\n",
       "  <thead>\n",
       "    <tr style=\"text-align: right;\">\n",
       "      <th></th>\n",
       "      <th>newsdesk</th>\n",
       "      <th>section</th>\n",
       "      <th>subsection</th>\n",
       "      <th>material</th>\n",
       "      <th>headline</th>\n",
       "      <th>abstract</th>\n",
       "      <th>keywords</th>\n",
       "      <th>word_count</th>\n",
       "      <th>pub_date</th>\n",
       "      <th>n_comments</th>\n",
       "      <th>...</th>\n",
       "      <th>parentID</th>\n",
       "      <th>parentUserDisplayName</th>\n",
       "      <th>depth</th>\n",
       "      <th>commentType</th>\n",
       "      <th>trusted</th>\n",
       "      <th>recommendedFlag</th>\n",
       "      <th>permID</th>\n",
       "      <th>isAnonymous</th>\n",
       "      <th>articleID</th>\n",
       "      <th>clean_com</th>\n",
       "    </tr>\n",
       "  </thead>\n",
       "  <tbody>\n",
       "    <tr>\n",
       "      <th>476</th>\n",
       "      <td>Foreign</td>\n",
       "      <td>World</td>\n",
       "      <td>Middle East</td>\n",
       "      <td>News</td>\n",
       "      <td>Pro-Iranian Protesters End Siege of U.S. Embas...</td>\n",
       "      <td>Iran’s ability to deploy militias to attack th...</td>\n",
       "      <td>['Iraq', 'Iran', 'United States', 'Demonstrati...</td>\n",
       "      <td>1120</td>\n",
       "      <td>2020-01-01 09:25:54+00:00</td>\n",
       "      <td>123</td>\n",
       "      <td>...</td>\n",
       "      <td>NaN</td>\n",
       "      <td>NaN</td>\n",
       "      <td>1</td>\n",
       "      <td>comment</td>\n",
       "      <td>0</td>\n",
       "      <td>0</td>\n",
       "      <td>104398636</td>\n",
       "      <td>False</td>\n",
       "      <td>nyt://article/ac742403-9ccd-522f-9a1e-a90feb6c...</td>\n",
       "      <td>credible evidence tie Iran state Administratio...</td>\n",
       "    </tr>\n",
       "    <tr>\n",
       "      <th>477</th>\n",
       "      <td>Foreign</td>\n",
       "      <td>World</td>\n",
       "      <td>Middle East</td>\n",
       "      <td>News</td>\n",
       "      <td>Pro-Iranian Protesters End Siege of U.S. Embas...</td>\n",
       "      <td>Iran’s ability to deploy militias to attack th...</td>\n",
       "      <td>['Iraq', 'Iran', 'United States', 'Demonstrati...</td>\n",
       "      <td>1120</td>\n",
       "      <td>2020-01-01 09:25:54+00:00</td>\n",
       "      <td>123</td>\n",
       "      <td>...</td>\n",
       "      <td>104398636.0</td>\n",
       "      <td>Olenska</td>\n",
       "      <td>2</td>\n",
       "      <td>userReply</td>\n",
       "      <td>0</td>\n",
       "      <td>0</td>\n",
       "      <td>104399008</td>\n",
       "      <td>False</td>\n",
       "      <td>nyt://article/ac742403-9ccd-522f-9a1e-a90feb6c...</td>\n",
       "      <td>Olenska could agree us learn</td>\n",
       "    </tr>\n",
       "  </tbody>\n",
       "</table>\n",
       "<p>2 rows × 35 columns</p>\n",
       "</div>"
      ],
      "text/plain": [
       "    newsdesk section   subsection material  \\\n",
       "476  Foreign   World  Middle East     News   \n",
       "477  Foreign   World  Middle East     News   \n",
       "\n",
       "                                              headline  \\\n",
       "476  Pro-Iranian Protesters End Siege of U.S. Embas...   \n",
       "477  Pro-Iranian Protesters End Siege of U.S. Embas...   \n",
       "\n",
       "                                              abstract  \\\n",
       "476  Iran’s ability to deploy militias to attack th...   \n",
       "477  Iran’s ability to deploy militias to attack th...   \n",
       "\n",
       "                                              keywords  word_count  \\\n",
       "476  ['Iraq', 'Iran', 'United States', 'Demonstrati...        1120   \n",
       "477  ['Iraq', 'Iran', 'United States', 'Demonstrati...        1120   \n",
       "\n",
       "                      pub_date  n_comments  ...     parentID  \\\n",
       "476  2020-01-01 09:25:54+00:00         123  ...          NaN   \n",
       "477  2020-01-01 09:25:54+00:00         123  ...  104398636.0   \n",
       "\n",
       "     parentUserDisplayName depth  commentType  trusted recommendedFlag  \\\n",
       "476                    NaN     1      comment        0               0   \n",
       "477                Olenska     2    userReply        0               0   \n",
       "\n",
       "        permID isAnonymous                                          articleID  \\\n",
       "476  104398636       False  nyt://article/ac742403-9ccd-522f-9a1e-a90feb6c...   \n",
       "477  104399008       False  nyt://article/ac742403-9ccd-522f-9a1e-a90feb6c...   \n",
       "\n",
       "                                             clean_com  \n",
       "476  credible evidence tie Iran state Administratio...  \n",
       "477                       Olenska could agree us learn  \n",
       "\n",
       "[2 rows x 35 columns]"
      ]
     },
     "execution_count": 16,
     "metadata": {},
     "output_type": "execute_result"
    }
   ],
   "source": [
    "World_Com.head(2)"
   ]
  },
  {
   "cell_type": "code",
   "execution_count": null,
   "metadata": {},
   "outputs": [],
   "source": [
    "######################## draw elbow plot for clustering ##########################"
   ]
  },
  {
   "cell_type": "code",
   "execution_count": 17,
   "metadata": {},
   "outputs": [],
   "source": [
    "#vectorizer = TfidfVectorizer()\n",
    "#vectorizer_matrix = vectorizer.fit_transform(World_Com['clean_com'].astype(str).values)"
   ]
  },
  {
   "cell_type": "code",
   "execution_count": 356,
   "metadata": {},
   "outputs": [],
   "source": [
    "#wcss=[]\n",
    "#for i in range(1,5): \n",
    "#    kmeans = KMeans(n_clusters=i,random_state=0)\n",
    "#    kmeans.fit(vectorizer_matrix)\n",
    "#    wcss.append(kmeans.inertia_)"
   ]
  },
  {
   "cell_type": "code",
   "execution_count": 357,
   "metadata": {},
   "outputs": [
    {
     "data": {
      "image/png": "[encoded data removed]",
      "text/plain": [
       "<Figure size 432x288 with 1 Axes>"
      ]
     },
     "metadata": {
      "needs_background": "light"
     },
     "output_type": "display_data"
    }
   ],
   "source": [
    "#plt.plot(range(1,5),wcss)\n",
    "#plt.title('The Elbow Method Graph')\n",
    "#plt.xlabel('Number of clusters')\n",
    "#plt.ylabel('WCSS')\n",
    "#plt.show()"
   ]
  },
  {
   "cell_type": "code",
   "execution_count": 374,
   "metadata": {},
   "outputs": [],
   "source": [
    "#def showElbow(data, rangeBegin,rangeEnd):\n",
    "#    wcss=[]\n",
    "#    for i in range(rangeBegin,rangeEnd): \n",
    "#        kmeans = KMeans(n_clusters=i,random_state=0)\n",
    "#        kmeans.fit(data)\n",
    "#        wcss.append(kmeans.inertia_)\n",
    "#    plt.plot(range(rangeBegin,rangeEnd),wcss)\n",
    "#    plt.title('The Elbow Method Graph')\n",
    "#    plt.xlabel('Number of clusters')\n",
    "#    plt.ylabel('WCSS')\n",
    "#    plt.show()\n",
    "#    print('k range:',rangeBegin,rangeEnd)"
   ]
  },
  {
   "cell_type": "code",
   "execution_count": 375,
   "metadata": {},
   "outputs": [
    {
     "data": {
      "image/png": "[encoded data removed]",
      "text/plain": [
       "<Figure size 432x288 with 1 Axes>"
      ]
     },
     "metadata": {
      "needs_background": "light"
     },
     "output_type": "display_data"
    },
    {
     "name": "stdout",
     "output_type": "stream",
     "text": [
      "k range: 20 25\n"
     ]
    }
   ],
   "source": [
    "#showElbow(vectorizer_matrix, 20,25)"
   ]
  },
  {
   "cell_type": "code",
   "execution_count": 379,
   "metadata": {},
   "outputs": [],
   "source": [
    "#def showElbow(data, k_list):\n",
    "#    wcss=[]\n",
    "#    for i in k_list: \n",
    "#        kmeans = KMeans(n_clusters=i,random_state=0)\n",
    "#        kmeans.fit(data)\n",
    "#        wcss.append(kmeans.inertia_)\n",
    "#    plt.plot(k_list,wcss)\n",
    "#    plt.title('The Elbow Method Graph')\n",
    "#    plt.xlabel('Number of clusters')\n",
    "#    plt.ylabel('WCSS')\n",
    "#    plt.show()\n",
    "#    print('k range:',k_list)"
   ]
  },
  {
   "cell_type": "code",
   "execution_count": 380,
   "metadata": {},
   "outputs": [
    {
     "data": {
      "image/png": "[encoded data removed]",
      "text/plain": [
       "<Figure size 432x288 with 1 Axes>"
      ]
     },
     "metadata": {
      "needs_background": "light"
     },
     "output_type": "display_data"
    },
    {
     "name": "stdout",
     "output_type": "stream",
     "text": [
      "k range: [30, 35, 40, 45]\n"
     ]
    }
   ],
   "source": [
    "#showElbow(vectorizer_matrix, [30,35,40,45]) #try k=30,35,40,45"
   ]
  },
  {
   "cell_type": "code",
   "execution_count": 381,
   "metadata": {},
   "outputs": [],
   "source": [
    "################################## silhouette score ######################################\n",
    "from sklearn.metrics import silhouette_score\n",
    "def get_silScore(data, rangeStart, rangeEnd):\n",
    "    silhouette_num = []\n",
    "    for n_clusters in range(rangeStart, rangeEnd):\n",
    "        clusterer = KMeans(n_clusters=n_clusters)\n",
    "        preds = clusterer.fit_predict(data)\n",
    "        #centers = clusterer.cluster_centers_\n",
    "        score = silhouette_score(data, preds)\n",
    "        silhouette_num.append(score)\n",
    "        print(\"For n_clusters = {}, silhouette score is {})\".format(n_clusters, score))"
   ]
  },
  {
   "cell_type": "code",
   "execution_count": 382,
   "metadata": {},
   "outputs": [
    {
     "name": "stdout",
     "output_type": "stream",
     "text": [
      "For n_clusters = 2, silhouette score is 0.0010813347763748635)\n",
      "For n_clusters = 3, silhouette score is 0.0011503561833901264)\n"
     ]
    }
   ],
   "source": [
    "#get_silScore(vectorizer_matrix, 2, 4)"
   ]
  },
  {
   "cell_type": "code",
   "execution_count": 383,
   "metadata": {},
   "outputs": [
    {
     "name": "stdout",
     "output_type": "stream",
     "text": [
      "For n_clusters = 100, silhouette score is 0.009059359971767338)\n",
      "For n_clusters = 101, silhouette score is 0.009883284053627333)\n",
      "For n_clusters = 102, silhouette score is 0.009558718702431603)\n",
      "For n_clusters = 103, silhouette score is 0.009739047359377025)\n",
      "For n_clusters = 104, silhouette score is 0.009383862461297915)\n",
      "For n_clusters = 105, silhouette score is 0.009786124676987328)\n",
      "For n_clusters = 106, silhouette score is 0.00974007510376393)\n",
      "For n_clusters = 107, silhouette score is 0.009800426424243943)\n",
      "For n_clusters = 108, silhouette score is 0.009902597865215393)\n",
      "For n_clusters = 109, silhouette score is 0.009943275261134785)\n"
     ]
    }
   ],
   "source": [
    "get_silScore(vectorizer_matrix, 100, 110)"
   ]
  },
  {
   "cell_type": "code",
   "execution_count": 18,
   "metadata": {},
   "outputs": [],
   "source": [
    "#from sklearn.metrics import silhouette_score\n",
    "#def get_SilScore(data, k_list):\n",
    "#    silhouette_num = []\n",
    "#    for n_clusters in k_list:\n",
    "#        clusterer = KMeans(n_clusters=n_clusters)\n",
    "#        preds = clusterer.fit_predict(data)\n",
    "        #centers = clusterer.cluster_centers_\n",
    "#        score = silhouette_score(data, preds)\n",
    "#        silhouette_num.append(score)\n",
    "#        print(\"For n_clusters = {}, silhouette score is {})\".format(n_clusters, score))"
   ]
  },
  {
   "cell_type": "code",
   "execution_count": 386,
   "metadata": {},
   "outputs": [
    {
     "name": "stdout",
     "output_type": "stream",
     "text": [
      "For n_clusters = 2, silhouette score is 0.001007770275400211)\n",
      "For n_clusters = 3, silhouette score is 0.0011398218387683402)\n"
     ]
    }
   ],
   "source": [
    "#get_SilScore(vectorizer_matrix, [2,3])"
   ]
  },
  {
   "cell_type": "code",
   "execution_count": 19,
   "metadata": {},
   "outputs": [
    {
     "ename": "MemoryError",
     "evalue": "Unable to allocate 2.33 GiB for an array with shape (284874, 1100) and data type float64",
     "output_type": "error",
     "traceback": [
      "\u001b[1;31m---------------------------------------------------------------------------\u001b[0m",
      "\u001b[1;31mMemoryError\u001b[0m                               Traceback (most recent call last)",
      "\u001b[1;32m<ipython-input-19-00c386e66ae3>\u001b[0m in \u001b[0;36m<module>\u001b[1;34m\u001b[0m\n\u001b[1;32m----> 1\u001b[1;33m \u001b[0mget_SilScore\u001b[0m\u001b[1;33m(\u001b[0m\u001b[0mvectorizer_matrix\u001b[0m\u001b[1;33m,\u001b[0m \u001b[1;33m[\u001b[0m\u001b[1;36m1100\u001b[0m\u001b[1;33m,\u001b[0m\u001b[1;36m1200\u001b[0m\u001b[1;33m,\u001b[0m\u001b[1;36m1300\u001b[0m\u001b[1;33m]\u001b[0m\u001b[1;33m)\u001b[0m \u001b[1;31m# list: try k=200,300,400,500\u001b[0m\u001b[1;33m\u001b[0m\u001b[1;33m\u001b[0m\u001b[0m\n\u001b[0m",
      "\u001b[1;32m<ipython-input-18-68b68bd40a5e>\u001b[0m in \u001b[0;36mget_SilScore\u001b[1;34m(data, k_list)\u001b[0m\n\u001b[0;32m      4\u001b[0m     \u001b[1;32mfor\u001b[0m \u001b[0mn_clusters\u001b[0m \u001b[1;32min\u001b[0m \u001b[0mk_list\u001b[0m\u001b[1;33m:\u001b[0m\u001b[1;33m\u001b[0m\u001b[1;33m\u001b[0m\u001b[0m\n\u001b[0;32m      5\u001b[0m         \u001b[0mclusterer\u001b[0m \u001b[1;33m=\u001b[0m \u001b[0mKMeans\u001b[0m\u001b[1;33m(\u001b[0m\u001b[0mn_clusters\u001b[0m\u001b[1;33m=\u001b[0m\u001b[0mn_clusters\u001b[0m\u001b[1;33m)\u001b[0m\u001b[1;33m\u001b[0m\u001b[1;33m\u001b[0m\u001b[0m\n\u001b[1;32m----> 6\u001b[1;33m         \u001b[0mpreds\u001b[0m \u001b[1;33m=\u001b[0m \u001b[0mclusterer\u001b[0m\u001b[1;33m.\u001b[0m\u001b[0mfit_predict\u001b[0m\u001b[1;33m(\u001b[0m\u001b[0mdata\u001b[0m\u001b[1;33m)\u001b[0m\u001b[1;33m\u001b[0m\u001b[1;33m\u001b[0m\u001b[0m\n\u001b[0m\u001b[0;32m      7\u001b[0m         \u001b[1;31m#centers = clusterer.cluster_centers_\u001b[0m\u001b[1;33m\u001b[0m\u001b[1;33m\u001b[0m\u001b[1;33m\u001b[0m\u001b[0m\n\u001b[0;32m      8\u001b[0m         \u001b[0mscore\u001b[0m \u001b[1;33m=\u001b[0m \u001b[0msilhouette_score\u001b[0m\u001b[1;33m(\u001b[0m\u001b[0mdata\u001b[0m\u001b[1;33m,\u001b[0m \u001b[0mpreds\u001b[0m\u001b[1;33m)\u001b[0m\u001b[1;33m\u001b[0m\u001b[1;33m\u001b[0m\u001b[0m\n",
      "\u001b[1;32mC:\\ProgramData\\Anaconda3\\lib\\site-packages\\sklearn\\cluster\\_kmeans.py\u001b[0m in \u001b[0;36mfit_predict\u001b[1;34m(self, X, y, sample_weight)\u001b[0m\n\u001b[0;32m   1120\u001b[0m             \u001b[0mIndex\u001b[0m \u001b[0mof\u001b[0m \u001b[0mthe\u001b[0m \u001b[0mcluster\u001b[0m \u001b[0meach\u001b[0m \u001b[0msample\u001b[0m \u001b[0mbelongs\u001b[0m \u001b[0mto\u001b[0m\u001b[1;33m.\u001b[0m\u001b[1;33m\u001b[0m\u001b[1;33m\u001b[0m\u001b[0m\n\u001b[0;32m   1121\u001b[0m         \"\"\"\n\u001b[1;32m-> 1122\u001b[1;33m         \u001b[1;32mreturn\u001b[0m \u001b[0mself\u001b[0m\u001b[1;33m.\u001b[0m\u001b[0mfit\u001b[0m\u001b[1;33m(\u001b[0m\u001b[0mX\u001b[0m\u001b[1;33m,\u001b[0m \u001b[0msample_weight\u001b[0m\u001b[1;33m=\u001b[0m\u001b[0msample_weight\u001b[0m\u001b[1;33m)\u001b[0m\u001b[1;33m.\u001b[0m\u001b[0mlabels_\u001b[0m\u001b[1;33m\u001b[0m\u001b[1;33m\u001b[0m\u001b[0m\n\u001b[0m\u001b[0;32m   1123\u001b[0m \u001b[1;33m\u001b[0m\u001b[0m\n\u001b[0;32m   1124\u001b[0m     \u001b[1;32mdef\u001b[0m \u001b[0mfit_transform\u001b[0m\u001b[1;33m(\u001b[0m\u001b[0mself\u001b[0m\u001b[1;33m,\u001b[0m \u001b[0mX\u001b[0m\u001b[1;33m,\u001b[0m \u001b[0my\u001b[0m\u001b[1;33m=\u001b[0m\u001b[1;32mNone\u001b[0m\u001b[1;33m,\u001b[0m \u001b[0msample_weight\u001b[0m\u001b[1;33m=\u001b[0m\u001b[1;32mNone\u001b[0m\u001b[1;33m)\u001b[0m\u001b[1;33m:\u001b[0m\u001b[1;33m\u001b[0m\u001b[1;33m\u001b[0m\u001b[0m\n",
      "\u001b[1;32mC:\\ProgramData\\Anaconda3\\lib\\site-packages\\sklearn\\cluster\\_kmeans.py\u001b[0m in \u001b[0;36mfit\u001b[1;34m(self, X, y, sample_weight)\u001b[0m\n\u001b[0;32m   1070\u001b[0m                 \u001b[0minit\u001b[0m\u001b[1;33m=\u001b[0m\u001b[0minit\u001b[0m\u001b[1;33m,\u001b[0m \u001b[0mverbose\u001b[0m\u001b[1;33m=\u001b[0m\u001b[0mself\u001b[0m\u001b[1;33m.\u001b[0m\u001b[0mverbose\u001b[0m\u001b[1;33m,\u001b[0m \u001b[0mtol\u001b[0m\u001b[1;33m=\u001b[0m\u001b[0mself\u001b[0m\u001b[1;33m.\u001b[0m\u001b[0m_tol\u001b[0m\u001b[1;33m,\u001b[0m\u001b[1;33m\u001b[0m\u001b[1;33m\u001b[0m\u001b[0m\n\u001b[0;32m   1071\u001b[0m                 \u001b[0mx_squared_norms\u001b[0m\u001b[1;33m=\u001b[0m\u001b[0mx_squared_norms\u001b[0m\u001b[1;33m,\u001b[0m \u001b[0mrandom_state\u001b[0m\u001b[1;33m=\u001b[0m\u001b[0mseed\u001b[0m\u001b[1;33m,\u001b[0m\u001b[1;33m\u001b[0m\u001b[1;33m\u001b[0m\u001b[0m\n\u001b[1;32m-> 1072\u001b[1;33m                 n_threads=self._n_threads)\n\u001b[0m\u001b[0;32m   1073\u001b[0m             \u001b[1;31m# determine if these results are the best so far\u001b[0m\u001b[1;33m\u001b[0m\u001b[1;33m\u001b[0m\u001b[1;33m\u001b[0m\u001b[0m\n\u001b[0;32m   1074\u001b[0m             \u001b[1;32mif\u001b[0m \u001b[0mbest_inertia\u001b[0m \u001b[1;32mis\u001b[0m \u001b[1;32mNone\u001b[0m \u001b[1;32mor\u001b[0m \u001b[0minertia\u001b[0m \u001b[1;33m<\u001b[0m \u001b[0mbest_inertia\u001b[0m\u001b[1;33m:\u001b[0m\u001b[1;33m\u001b[0m\u001b[1;33m\u001b[0m\u001b[0m\n",
      "\u001b[1;32mC:\\ProgramData\\Anaconda3\\lib\\site-packages\\sklearn\\cluster\\_kmeans.py\u001b[0m in \u001b[0;36m_kmeans_single_elkan\u001b[1;34m(X, sample_weight, n_clusters, max_iter, init, verbose, x_squared_norms, random_state, tol, n_threads)\u001b[0m\n\u001b[0;32m    401\u001b[0m                                         kth=1, axis=0)[1]\n\u001b[0;32m    402\u001b[0m     \u001b[0mupper_bounds\u001b[0m \u001b[1;33m=\u001b[0m \u001b[0mnp\u001b[0m\u001b[1;33m.\u001b[0m\u001b[0mzeros\u001b[0m\u001b[1;33m(\u001b[0m\u001b[0mn_samples\u001b[0m\u001b[1;33m,\u001b[0m \u001b[0mdtype\u001b[0m\u001b[1;33m=\u001b[0m\u001b[0mX\u001b[0m\u001b[1;33m.\u001b[0m\u001b[0mdtype\u001b[0m\u001b[1;33m)\u001b[0m\u001b[1;33m\u001b[0m\u001b[1;33m\u001b[0m\u001b[0m\n\u001b[1;32m--> 403\u001b[1;33m     \u001b[0mlower_bounds\u001b[0m \u001b[1;33m=\u001b[0m \u001b[0mnp\u001b[0m\u001b[1;33m.\u001b[0m\u001b[0mzeros\u001b[0m\u001b[1;33m(\u001b[0m\u001b[1;33m(\u001b[0m\u001b[0mn_samples\u001b[0m\u001b[1;33m,\u001b[0m \u001b[0mn_clusters\u001b[0m\u001b[1;33m)\u001b[0m\u001b[1;33m,\u001b[0m \u001b[0mdtype\u001b[0m\u001b[1;33m=\u001b[0m\u001b[0mX\u001b[0m\u001b[1;33m.\u001b[0m\u001b[0mdtype\u001b[0m\u001b[1;33m)\u001b[0m\u001b[1;33m\u001b[0m\u001b[1;33m\u001b[0m\u001b[0m\n\u001b[0m\u001b[0;32m    404\u001b[0m     \u001b[0mcenter_shift\u001b[0m \u001b[1;33m=\u001b[0m \u001b[0mnp\u001b[0m\u001b[1;33m.\u001b[0m\u001b[0mzeros\u001b[0m\u001b[1;33m(\u001b[0m\u001b[0mn_clusters\u001b[0m\u001b[1;33m,\u001b[0m \u001b[0mdtype\u001b[0m\u001b[1;33m=\u001b[0m\u001b[0mX\u001b[0m\u001b[1;33m.\u001b[0m\u001b[0mdtype\u001b[0m\u001b[1;33m)\u001b[0m\u001b[1;33m\u001b[0m\u001b[1;33m\u001b[0m\u001b[0m\n\u001b[0;32m    405\u001b[0m \u001b[1;33m\u001b[0m\u001b[0m\n",
      "\u001b[1;31mMemoryError\u001b[0m: Unable to allocate 2.33 GiB for an array with shape (284874, 1100) and data type float64"
     ]
    }
   ],
   "source": [
    "#get_SilScore(vectorizer_matrix, [1100,1200,1300]) # list: try k=200,300,400,500"
   ]
  },
  {
   "cell_type": "code",
   "execution_count": null,
   "metadata": {},
   "outputs": [],
   "source": []
  },
  {
   "cell_type": "code",
   "execution_count": null,
   "metadata": {},
   "outputs": [],
   "source": [
    "############################### best number of clustering is n ############################"
   ]
  },
  {
   "cell_type": "code",
   "execution_count": 392,
   "metadata": {},
   "outputs": [
    {
     "name": "stdout",
     "output_type": "stream",
     "text": [
      "Wall time: 7min 31s\n"
     ]
    }
   ],
   "source": [
    "num_clusters = 1000 #need to change to the best k we got from above code\n",
    "km = KMeans(n_clusters=num_clusters)\n",
    "%time km.fit(vectorizer_matrix)\n",
    "clusters = km.labels_.tolist()"
   ]
  },
  {
   "cell_type": "code",
   "execution_count": null,
   "metadata": {},
   "outputs": [],
   "source": [
    "#clusters=clusterer.labels_.tolist()\n",
    "#World_Com['cluster']=clusters\n",
    "#result=World_Com.groupby('articleID').cluster.nunique()\n",
    "#result.to_csv('cluster result.csv')"
   ]
  },
  {
   "cell_type": "code",
   "execution_count": 393,
   "metadata": {},
   "outputs": [
    {
     "data": {
      "text/plain": [
       "True"
      ]
     },
     "execution_count": 393,
     "metadata": {},
     "output_type": "execute_result"
    }
   ],
   "source": [
    "len(clusters)==len(World_Com)"
   ]
  },
  {
   "cell_type": "code",
   "execution_count": 394,
   "metadata": {},
   "outputs": [
    {
     "name": "stderr",
     "output_type": "stream",
     "text": [
      "C:\\ProgramData\\Anaconda3\\lib\\site-packages\\ipykernel_launcher.py:2: SettingWithCopyWarning: \n",
      "A value is trying to be set on a copy of a slice from a DataFrame.\n",
      "Try using .loc[row_indexer,col_indexer] = value instead\n",
      "\n",
      "See the caveats in the documentation: https://pandas.pydata.org/pandas-docs/stable/user_guide/indexing.html#returning-a-view-versus-a-copy\n",
      "  \n"
     ]
    }
   ],
   "source": [
    "############ add cluster number to sci comments dataframe ####################################\n",
    "World_Com['cluster']=clusters"
   ]
  },
  {
   "cell_type": "code",
   "execution_count": 395,
   "metadata": {},
   "outputs": [
    {
     "data": {
      "text/html": [
       "<div>\n",
       "<style scoped>\n",
       "    .dataframe tbody tr th:only-of-type {\n",
       "        vertical-align: middle;\n",
       "    }\n",
       "\n",
       "    .dataframe tbody tr th {\n",
       "        vertical-align: top;\n",
       "    }\n",
       "\n",
       "    .dataframe thead th {\n",
       "        text-align: right;\n",
       "    }\n",
       "</style>\n",
       "<table border=\"1\" class=\"dataframe\">\n",
       "  <thead>\n",
       "    <tr style=\"text-align: right;\">\n",
       "      <th></th>\n",
       "      <th>newsdesk</th>\n",
       "      <th>section</th>\n",
       "      <th>subsection</th>\n",
       "      <th>material</th>\n",
       "      <th>headline</th>\n",
       "      <th>abstract</th>\n",
       "      <th>keywords</th>\n",
       "      <th>word_count</th>\n",
       "      <th>pub_date</th>\n",
       "      <th>n_comments</th>\n",
       "      <th>...</th>\n",
       "      <th>parentUserDisplayName</th>\n",
       "      <th>depth</th>\n",
       "      <th>commentType</th>\n",
       "      <th>trusted</th>\n",
       "      <th>recommendedFlag</th>\n",
       "      <th>permID</th>\n",
       "      <th>isAnonymous</th>\n",
       "      <th>articleID</th>\n",
       "      <th>clean_com</th>\n",
       "      <th>cluster</th>\n",
       "    </tr>\n",
       "  </thead>\n",
       "  <tbody>\n",
       "    <tr>\n",
       "      <th>476</th>\n",
       "      <td>Foreign</td>\n",
       "      <td>World</td>\n",
       "      <td>Middle East</td>\n",
       "      <td>News</td>\n",
       "      <td>Pro-Iranian Protesters End Siege of U.S. Embas...</td>\n",
       "      <td>Iran’s ability to deploy militias to attack th...</td>\n",
       "      <td>['Iraq', 'Iran', 'United States', 'Demonstrati...</td>\n",
       "      <td>1120</td>\n",
       "      <td>2020-01-01 09:25:54+00:00</td>\n",
       "      <td>123</td>\n",
       "      <td>...</td>\n",
       "      <td>NaN</td>\n",
       "      <td>1</td>\n",
       "      <td>comment</td>\n",
       "      <td>0</td>\n",
       "      <td>0</td>\n",
       "      <td>104398636</td>\n",
       "      <td>False</td>\n",
       "      <td>nyt://article/ac742403-9ccd-522f-9a1e-a90feb6c...</td>\n",
       "      <td>credible evidence tie Iran state Administratio...</td>\n",
       "      <td>0</td>\n",
       "    </tr>\n",
       "    <tr>\n",
       "      <th>477</th>\n",
       "      <td>Foreign</td>\n",
       "      <td>World</td>\n",
       "      <td>Middle East</td>\n",
       "      <td>News</td>\n",
       "      <td>Pro-Iranian Protesters End Siege of U.S. Embas...</td>\n",
       "      <td>Iran’s ability to deploy militias to attack th...</td>\n",
       "      <td>['Iraq', 'Iran', 'United States', 'Demonstrati...</td>\n",
       "      <td>1120</td>\n",
       "      <td>2020-01-01 09:25:54+00:00</td>\n",
       "      <td>123</td>\n",
       "      <td>...</td>\n",
       "      <td>Olenska</td>\n",
       "      <td>2</td>\n",
       "      <td>userReply</td>\n",
       "      <td>0</td>\n",
       "      <td>0</td>\n",
       "      <td>104399008</td>\n",
       "      <td>False</td>\n",
       "      <td>nyt://article/ac742403-9ccd-522f-9a1e-a90feb6c...</td>\n",
       "      <td>Olenska could agree us learn</td>\n",
       "      <td>3</td>\n",
       "    </tr>\n",
       "  </tbody>\n",
       "</table>\n",
       "<p>2 rows × 36 columns</p>\n",
       "</div>"
      ],
      "text/plain": [
       "    newsdesk section   subsection material  \\\n",
       "476  Foreign   World  Middle East     News   \n",
       "477  Foreign   World  Middle East     News   \n",
       "\n",
       "                                              headline  \\\n",
       "476  Pro-Iranian Protesters End Siege of U.S. Embas...   \n",
       "477  Pro-Iranian Protesters End Siege of U.S. Embas...   \n",
       "\n",
       "                                              abstract  \\\n",
       "476  Iran’s ability to deploy militias to attack th...   \n",
       "477  Iran’s ability to deploy militias to attack th...   \n",
       "\n",
       "                                              keywords  word_count  \\\n",
       "476  ['Iraq', 'Iran', 'United States', 'Demonstrati...        1120   \n",
       "477  ['Iraq', 'Iran', 'United States', 'Demonstrati...        1120   \n",
       "\n",
       "                      pub_date  n_comments  ... parentUserDisplayName  depth  \\\n",
       "476  2020-01-01 09:25:54+00:00         123  ...                   NaN      1   \n",
       "477  2020-01-01 09:25:54+00:00         123  ...               Olenska      2   \n",
       "\n",
       "    commentType  trusted  recommendedFlag     permID isAnonymous  \\\n",
       "476     comment        0                0  104398636       False   \n",
       "477   userReply        0                0  104399008       False   \n",
       "\n",
       "                                             articleID  \\\n",
       "476  nyt://article/ac742403-9ccd-522f-9a1e-a90feb6c...   \n",
       "477  nyt://article/ac742403-9ccd-522f-9a1e-a90feb6c...   \n",
       "\n",
       "                                             clean_com cluster  \n",
       "476  credible evidence tie Iran state Administratio...       0  \n",
       "477                       Olenska could agree us learn       3  \n",
       "\n",
       "[2 rows x 36 columns]"
      ]
     },
     "execution_count": 395,
     "metadata": {},
     "output_type": "execute_result"
    }
   ],
   "source": [
    "World_Com.head(2)"
   ]
  },
  {
   "cell_type": "code",
   "execution_count": 368,
   "metadata": {},
   "outputs": [],
   "source": [
    "################## count how many clusters the comments of each article contain ###########################"
   ]
  },
  {
   "cell_type": "code",
   "execution_count": null,
   "metadata": {},
   "outputs": [],
   "source": [
    "result=World_Com.groupby('articleID').cluster.nunique()"
   ]
  },
  {
   "cell_type": "code",
   "execution_count": 397,
   "metadata": {},
   "outputs": [
    {
     "data": {
      "text/plain": [
       "articleID\n",
       "nyt://article/00c2d2a5-85d6-5dbb-ae5d-fbb430bcd014    3\n",
       "nyt://article/00d739ea-0abb-5939-899e-d7bd1999f516    4\n",
       "nyt://article/00dfd8ea-2d07-5f18-b8e1-3570f09e45e8    4\n",
       "nyt://article/00e3dfa6-82b3-5825-bf8a-c144ac1ac0a0    4\n",
       "nyt://article/00ff0943-553d-5afe-b98a-0fba5d736efe    2\n",
       "nyt://article/012512d1-4deb-5fae-a6d4-8b101314a414    1\n",
       "nyt://article/0127350f-4c30-5c4c-a9f2-42d3d905d065    4\n",
       "nyt://article/016cf3b3-56e9-53e4-882c-549209211afb    4\n",
       "nyt://article/01bccb26-a950-591e-80ba-6ab491d2ca63    4\n",
       "nyt://article/01d1cf98-08db-5f7c-aad2-435b40fab2d7    1\n",
       "nyt://article/0292c32c-b54c-5703-bad8-03afbce5588e    3\n",
       "nyt://article/02ab48eb-8502-526c-8b28-497b74368648    3\n",
       "nyt://article/02bb8258-a569-5c65-8ea8-e2bdd2178653    4\n",
       "nyt://article/02bc9d31-b32f-5e87-9793-f602feb3232c    3\n",
       "nyt://article/0302d690-bc07-5c98-bc0d-5c002e51f5e2    4\n",
       "nyt://article/032186fa-9b3c-5b5a-b53e-091c35fab634    4\n",
       "nyt://article/03532bb2-2ebe-5357-8297-f079a4cdcea9    3\n",
       "nyt://article/0406c5e5-ab64-5829-92f1-c617d6623a3b    3\n",
       "nyt://article/040a06be-209c-5f93-9f0f-5fcd7be7e635    4\n",
       "nyt://article/040d58e0-ad42-5925-8c68-15e197fda0fe    4\n",
       "Name: cluster, dtype: int64"
      ]
     },
     "execution_count": 397,
     "metadata": {},
     "output_type": "execute_result"
    }
   ],
   "source": [
    "result.head(20)# column= artileID, number of topics the comments of this article have"
   ]
  },
  {
   "cell_type": "code",
   "execution_count": null,
   "metadata": {},
   "outputs": [],
   "source": [
    "result.to_csv('cluster result.csv')"
   ]
  },
  {
   "cell_type": "code",
   "execution_count": null,
   "metadata": {},
   "outputs": [],
   "source": [
    "################ normalize the number of topics ###############################"
   ]
  },
  {
   "cell_type": "code",
   "execution_count": null,
   "metadata": {},
   "outputs": [],
   "source": []
  },
  {
   "cell_type": "code",
   "execution_count": null,
   "metadata": {},
   "outputs": [],
   "source": []
  },
  {
   "cell_type": "code",
   "execution_count": null,
   "metadata": {},
   "outputs": [],
   "source": []
  }
 ],
 "metadata": {
  "kernelspec": {
   "display_name": "Python 3",
   "language": "python",
   "name": "python3"
  },
  "language_info": {
   "codemirror_mode": {
    "name": "ipython",
    "version": 3
   },
   "file_extension": ".py",
   "mimetype": "text/x-python",
   "name": "python",
   "nbconvert_exporter": "python",
   "pygments_lexer": "ipython3",
   "version": "3.7.6"
  }
 },
 "nbformat": 4,
 "nbformat_minor": 4
}
